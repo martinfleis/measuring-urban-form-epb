{
 "cells": [
  {
   "cell_type": "markdown",
   "metadata": {},
   "source": [
    "# Measuring urban form: Overcoming terminological inconsistencies for a quantitative and comprehensive morphologic analysis of cities\n",
    "\n",
    "Jupyter notebook used to generate analysis of the database of morphological characters.\n",
    "\n",
    "Note: This is the real notebook which was used, so it might a bit rough at some points :).\n",
    "\n",
    "For more information see [this blogpost](http://martinfleischmann.net/confused-terminology-in-urban-morphology]) or [the paper itself](https://journals.sagepub.com/doi/10.1177/2399808320910444)."
   ]
  },
  {
   "cell_type": "code",
   "execution_count": 5,
   "metadata": {},
   "outputs": [],
   "source": [
    "import pandas as pd\n",
    "import numpy as np\n",
    "import seaborn as sns\n",
    "import matplotlib.pyplot as plt"
   ]
  },
  {
   "cell_type": "code",
   "execution_count": 6,
   "metadata": {},
   "outputs": [],
   "source": [
    "sns.set()"
   ]
  },
  {
   "cell_type": "code",
   "execution_count": 3,
   "metadata": {},
   "outputs": [],
   "source": [
    "data = pd.read_csv('characters.csv', index_col=0, delimiter=';')"
   ]
  },
  {
   "cell_type": "code",
   "execution_count": 4,
   "metadata": {},
   "outputs": [
    {
     "data": {
      "text/html": [
       "<div>\n",
       "<style scoped>\n",
       "    .dataframe tbody tr th:only-of-type {\n",
       "        vertical-align: middle;\n",
       "    }\n",
       "\n",
       "    .dataframe tbody tr th {\n",
       "        vertical-align: top;\n",
       "    }\n",
       "\n",
       "    .dataframe thead th {\n",
       "        text-align: right;\n",
       "    }\n",
       "</style>\n",
       "<table border=\"1\" class=\"dataframe\">\n",
       "  <thead>\n",
       "    <tr style=\"text-align: right;\">\n",
       "      <th></th>\n",
       "      <th>Index</th>\n",
       "      <th>Element</th>\n",
       "      <th>Scale of grain</th>\n",
       "      <th>Scale of information extent</th>\n",
       "      <th>Reference</th>\n",
       "    </tr>\n",
       "    <tr>\n",
       "      <th>Category</th>\n",
       "      <th></th>\n",
       "      <th></th>\n",
       "      <th></th>\n",
       "      <th></th>\n",
       "      <th></th>\n",
       "    </tr>\n",
       "  </thead>\n",
       "  <tbody>\n",
       "    <tr>\n",
       "      <th>Dimension</th>\n",
       "      <td>Area</td>\n",
       "      <td>Block</td>\n",
       "      <td>Block</td>\n",
       "      <td>Block</td>\n",
       "      <td>Dibble (2016)</td>\n",
       "    </tr>\n",
       "    <tr>\n",
       "      <th>Dimension</th>\n",
       "      <td>Built-up area</td>\n",
       "      <td>Block</td>\n",
       "      <td>Block</td>\n",
       "      <td>Block</td>\n",
       "      <td>Gil (2012)</td>\n",
       "    </tr>\n",
       "    <tr>\n",
       "      <th>Dimension</th>\n",
       "      <td>Depth</td>\n",
       "      <td>Block</td>\n",
       "      <td>Block</td>\n",
       "      <td>Block</td>\n",
       "      <td>Sevtsuk (2016)</td>\n",
       "    </tr>\n",
       "    <tr>\n",
       "      <th>Dimension</th>\n",
       "      <td>Gross floor area</td>\n",
       "      <td>Block</td>\n",
       "      <td>Block</td>\n",
       "      <td>Block</td>\n",
       "      <td>Gil (2012)</td>\n",
       "    </tr>\n",
       "    <tr>\n",
       "      <th>Dimension</th>\n",
       "      <td>Height</td>\n",
       "      <td>Block</td>\n",
       "      <td>Block</td>\n",
       "      <td>Block</td>\n",
       "      <td>Hermosilla (2014)</td>\n",
       "    </tr>\n",
       "    <tr>\n",
       "      <th>...</th>\n",
       "      <td>...</td>\n",
       "      <td>...</td>\n",
       "      <td>...</td>\n",
       "      <td>...</td>\n",
       "      <td>...</td>\n",
       "    </tr>\n",
       "    <tr>\n",
       "      <th>Diversity</th>\n",
       "      <td>Plot Area Diversity</td>\n",
       "      <td>Case study</td>\n",
       "      <td>Urban Area/Neighbourhood</td>\n",
       "      <td>Urban Area/Neighbourhood</td>\n",
       "      <td>Bourdic, Salat and Nowacki (2012)</td>\n",
       "    </tr>\n",
       "    <tr>\n",
       "      <th>Diversity</th>\n",
       "      <td>Block Area Power law distribution</td>\n",
       "      <td>Neighborhood</td>\n",
       "      <td>Urban Area/Neighbourhood</td>\n",
       "      <td>Urban Area/Neighbourhood</td>\n",
       "      <td>Louf and Barthelemy (2014)</td>\n",
       "    </tr>\n",
       "    <tr>\n",
       "      <th>Diversity</th>\n",
       "      <td>Block Shape factor Probaility conditional dist...</td>\n",
       "      <td>Neighborhood</td>\n",
       "      <td>Urban Area/Neighbourhood</td>\n",
       "      <td>Urban Area/Neighbourhood</td>\n",
       "      <td>Louf and Barthelemy (2014)</td>\n",
       "    </tr>\n",
       "    <tr>\n",
       "      <th>Diversity</th>\n",
       "      <td>Diversity index</td>\n",
       "      <td>Street network</td>\n",
       "      <td>Urban Area/Neighbourhood</td>\n",
       "      <td>Urban Area/Neighbourhood</td>\n",
       "      <td>Agryzkov, Tortosa and Vicent (2018)</td>\n",
       "    </tr>\n",
       "    <tr>\n",
       "      <th>Diversity</th>\n",
       "      <td>Scale hierarchy</td>\n",
       "      <td>Street network</td>\n",
       "      <td>Urban Area/Neighbourhood</td>\n",
       "      <td>Urban Area/Neighbourhood</td>\n",
       "      <td>Bourdic, Salat and Nowacki (2012)</td>\n",
       "    </tr>\n",
       "  </tbody>\n",
       "</table>\n",
       "<p>361 rows × 5 columns</p>\n",
       "</div>"
      ],
      "text/plain": [
       "                                                       Index         Element  \\\n",
       "Category                                                                       \n",
       "Dimension                                               Area           Block   \n",
       "Dimension                                      Built-up area           Block   \n",
       "Dimension                                              Depth           Block   \n",
       "Dimension                                   Gross floor area           Block   \n",
       "Dimension                                             Height           Block   \n",
       "...                                                      ...             ...   \n",
       "Diversity                                Plot Area Diversity      Case study   \n",
       "Diversity                  Block Area Power law distribution    Neighborhood   \n",
       "Diversity  Block Shape factor Probaility conditional dist...    Neighborhood   \n",
       "Diversity                                    Diversity index  Street network   \n",
       "Diversity                                    Scale hierarchy  Street network   \n",
       "\n",
       "                     Scale of grain Scale of information extent  \\\n",
       "Category                                                          \n",
       "Dimension                     Block                       Block   \n",
       "Dimension                     Block                       Block   \n",
       "Dimension                     Block                       Block   \n",
       "Dimension                     Block                       Block   \n",
       "Dimension                     Block                       Block   \n",
       "...                             ...                         ...   \n",
       "Diversity  Urban Area/Neighbourhood    Urban Area/Neighbourhood   \n",
       "Diversity  Urban Area/Neighbourhood    Urban Area/Neighbourhood   \n",
       "Diversity  Urban Area/Neighbourhood    Urban Area/Neighbourhood   \n",
       "Diversity  Urban Area/Neighbourhood    Urban Area/Neighbourhood   \n",
       "Diversity  Urban Area/Neighbourhood    Urban Area/Neighbourhood   \n",
       "\n",
       "                                     Reference  \n",
       "Category                                        \n",
       "Dimension                        Dibble (2016)  \n",
       "Dimension                           Gil (2012)  \n",
       "Dimension                       Sevtsuk (2016)  \n",
       "Dimension                           Gil (2012)  \n",
       "Dimension                    Hermosilla (2014)  \n",
       "...                                        ...  \n",
       "Diversity    Bourdic, Salat and Nowacki (2012)  \n",
       "Diversity           Louf and Barthelemy (2014)  \n",
       "Diversity           Louf and Barthelemy (2014)  \n",
       "Diversity  Agryzkov, Tortosa and Vicent (2018)  \n",
       "Diversity    Bourdic, Salat and Nowacki (2012)  \n",
       "\n",
       "[361 rows x 5 columns]"
      ]
     },
     "execution_count": 4,
     "metadata": {},
     "output_type": "execute_result"
    }
   ],
   "source": [
    "data"
   ]
  },
  {
   "cell_type": "code",
   "execution_count": 15,
   "metadata": {},
   "outputs": [],
   "source": [
    "statistics_grain = pd.DataFrame(index = ['Block', 'Neighbourhood', 'Urban Area'], columns = ['Dimension', 'Shape', 'Distribution', 'Intensity', 'Connectivity', 'Diversity']).fillna(0)"
   ]
  },
  {
   "cell_type": "code",
   "execution_count": 16,
   "metadata": {},
   "outputs": [],
   "source": [
    "for idx, r in data.iterrows():\n",
    "    for scale in ['Block', 'Neighbourhood', 'Urban Area']:\n",
    "        if scale in r['Scale of grain']:\n",
    "            for cat in ['Dimension', 'Shape', 'Distribution', 'Intensity', 'Connectivity', 'Diversity']:\n",
    "                if cat == idx:   \n",
    "                    statistics_grain.loc[scale, cat] = statistics_grain.loc[scale, cat] + 1"
   ]
  },
  {
   "cell_type": "code",
   "execution_count": 20,
   "metadata": {},
   "outputs": [],
   "source": [
    "statistics_grain['Total'] = statistics_grain.sum(axis=1)"
   ]
  },
  {
   "cell_type": "code",
   "execution_count": 21,
   "metadata": {},
   "outputs": [],
   "source": [
    "statistics_grain.loc['Total']= statistics_grain.sum()"
   ]
  },
  {
   "cell_type": "code",
   "execution_count": 23,
   "metadata": {},
   "outputs": [],
   "source": [
    "statistics_grain.rename(index={'Block': \"Small\", \"Neighbourhood\": \"Medium\", \"Urban Area\": \"Large\"}, inplace=True)"
   ]
  },
  {
   "cell_type": "code",
   "execution_count": 9,
   "metadata": {},
   "outputs": [],
   "source": [
    "sns.set_style(\"whitegrid\")\n",
    "sns.set_context(\"paper\")"
   ]
  },
  {
   "cell_type": "code",
   "execution_count": 16,
   "metadata": {},
   "outputs": [
    {
     "data": {
      "image/png": "[encoded data removed]",
      "text/plain": [
       "<Figure size 864x576 with 1 Axes>"
      ]
     },
     "metadata": {},
     "output_type": "display_data"
    }
   ],
   "source": [
    "ax = statistics_grain.drop(columns='Total').drop('Total').plot(kind='bar', figsize=(12, 8), cmap='Set2')\n",
    "sns.despine(offset=5)\n",
    "ax.xaxis.grid(False)\n",
    "ax.yaxis.grid(False)\n",
    "plt.title('Grain')\n",
    "ax.set_ylim([0, 75])\n",
    "plt.savefig('divided_bar.svg')"
   ]
  },
  {
   "cell_type": "code",
   "execution_count": 22,
   "metadata": {},
   "outputs": [
    {
     "data": {
      "image/png": "[encoded data removed]",
      "text/plain": [
       "<Figure size 432x288 with 1 Axes>"
      ]
     },
     "metadata": {},
     "output_type": "display_data"
    }
   ],
   "source": [
    "ax = statistics_grain.Total.drop('Total').plot(kind='bar', figsize=(6, 4), cmap='Set2')\n",
    "sns.despine(offset=5)\n",
    "ax.xaxis.grid(False)\n",
    "ax.yaxis.grid(False)\n",
    "plt.title('Grain')\n",
    "ax.set_ylim([0, 240])\n",
    "plt.savefig('total_grain.svg')"
   ]
  },
  {
   "cell_type": "code",
   "execution_count": 27,
   "metadata": {},
   "outputs": [
    {
     "data": {
      "image/png": "[encoded data removed]",
      "text/plain": [
       "<Figure size 864x576 with 1 Axes>"
      ]
     },
     "metadata": {},
     "output_type": "display_data"
    }
   ],
   "source": [
    "ax = statistics_grain.loc['Total'].drop('Total').plot(kind='bar', figsize=(12, 8), cmap='Set2')\n",
    "sns.despine(offset=5)\n",
    "ax.xaxis.grid(False)\n",
    "ax.yaxis.grid(False)\n",
    "plt.title('Grain')\n",
    "plt.savefig('total_categories.png')"
   ]
  },
  {
   "cell_type": "code",
   "execution_count": 36,
   "metadata": {},
   "outputs": [],
   "source": [
    "statistics_extent = pd.DataFrame(index = ['Block', 'Neighbourhood', 'Urban Area'], columns = ['Dimension', 'Shape', 'Distribution', 'Intensity', 'Connectivity', 'Diversity']).fillna(0)"
   ]
  },
  {
   "cell_type": "code",
   "execution_count": 37,
   "metadata": {},
   "outputs": [],
   "source": [
    "for idx, r in data.iterrows():\n",
    "    for scale in ['Block', 'Neighbourhood', 'Urban Area']:\n",
    "        if scale in r['Scale of information extent']:\n",
    "            for cat in ['Dimension', 'Shape', 'Distribution', 'Intensity', 'Connectivity', 'Diversity']:\n",
    "                if cat == idx:   \n",
    "                    statistics_extent.loc[scale, cat] = statistics_extent.loc[scale, cat] + 1"
   ]
  },
  {
   "cell_type": "code",
   "execution_count": 38,
   "metadata": {},
   "outputs": [],
   "source": [
    "statistics_extent['Total'] = statistics_extent.sum(axis=1)\n",
    "statistics_extent.loc['Total']= statistics_extent.sum()\n",
    "statistics_extent.rename(index={'Block': \"Small\", \"Neighbourhood\": \"Medium\", \"Urban Area\": \"Large\"}, inplace=True)"
   ]
  },
  {
   "cell_type": "code",
   "execution_count": 17,
   "metadata": {},
   "outputs": [
    {
     "data": {
      "image/png": "[encoded data removed]",
      "text/plain": [
       "<Figure size 864x576 with 1 Axes>"
      ]
     },
     "metadata": {},
     "output_type": "display_data"
    }
   ],
   "source": [
    "ax = statistics_extent.drop(columns='Total').drop('Total').plot(kind='bar', figsize=(12, 8), cmap='Set2')\n",
    "sns.despine(offset=5)\n",
    "ax.xaxis.grid(False)\n",
    "ax.yaxis.grid(False)\n",
    "plt.title('Extent')\n",
    "ax.set_ylim([0, 75])\n",
    "plt.savefig('divided_bar_ext.svg')"
   ]
  },
  {
   "cell_type": "code",
   "execution_count": 23,
   "metadata": {},
   "outputs": [
    {
     "data": {
      "image/png": "[encoded data removed]",
      "text/plain": [
       "<Figure size 432x288 with 1 Axes>"
      ]
     },
     "metadata": {},
     "output_type": "display_data"
    }
   ],
   "source": [
    "ax = statistics_extent.Total.drop('Total').plot(kind='bar', figsize=(6, 4), cmap='Set2')\n",
    "sns.despine(offset=5)\n",
    "ax.xaxis.grid(False)\n",
    "ax.yaxis.grid(False)\n",
    "plt.title('Extent')\n",
    "ax.set_ylim([0, 240])\n",
    "plt.savefig('total_ext.svg')"
   ]
  },
  {
   "cell_type": "code",
   "execution_count": 42,
   "metadata": {},
   "outputs": [
    {
     "data": {
      "text/plain": [
       "Text(0.5, 1.0, 'Extent')"
      ]
     },
     "execution_count": 42,
     "metadata": {},
     "output_type": "execute_result"
    },
    {
     "data": {
      "image/png": "[encoded data removed]",
      "text/plain": [
       "<Figure size 864x576 with 1 Axes>"
      ]
     },
     "metadata": {},
     "output_type": "display_data"
    }
   ],
   "source": [
    "ax = statistics_extent.loc['Total'].drop('Total').plot(kind='bar', figsize=(12, 8), cmap='Set2')\n",
    "sns.despine(offset=5)\n",
    "ax.xaxis.grid(False)\n",
    "ax.yaxis.grid(False)\n",
    "plt.title('Extent')\n",
    "#plt.savefig('total_categories.png')"
   ]
  },
  {
   "cell_type": "code",
   "execution_count": 43,
   "metadata": {},
   "outputs": [],
   "source": [
    "statistics_extent.to_csv(\"statistics_extent.csv\")\n",
    "statistics_grain.to_csv(\"statistics_grain.csv\")"
   ]
  },
  {
   "cell_type": "code",
   "execution_count": 47,
   "metadata": {},
   "outputs": [
    {
     "data": {
      "text/html": [
       "<div>\n",
       "<style scoped>\n",
       "    .dataframe tbody tr th:only-of-type {\n",
       "        vertical-align: middle;\n",
       "    }\n",
       "\n",
       "    .dataframe tbody tr th {\n",
       "        vertical-align: top;\n",
       "    }\n",
       "\n",
       "    .dataframe thead th {\n",
       "        text-align: right;\n",
       "    }\n",
       "</style>\n",
       "<table border=\"1\" class=\"dataframe\">\n",
       "  <thead>\n",
       "    <tr style=\"text-align: right;\">\n",
       "      <th></th>\n",
       "      <th>Dimension</th>\n",
       "      <th>Shape</th>\n",
       "      <th>Distribution</th>\n",
       "      <th>Intensity</th>\n",
       "      <th>Connectivity</th>\n",
       "      <th>Diversity</th>\n",
       "      <th>Total</th>\n",
       "    </tr>\n",
       "  </thead>\n",
       "  <tbody>\n",
       "    <tr>\n",
       "      <th>Small</th>\n",
       "      <td>56</td>\n",
       "      <td>63</td>\n",
       "      <td>17</td>\n",
       "      <td>39</td>\n",
       "      <td>0</td>\n",
       "      <td>0</td>\n",
       "      <td>175</td>\n",
       "    </tr>\n",
       "    <tr>\n",
       "      <th>Medium</th>\n",
       "      <td>14</td>\n",
       "      <td>7</td>\n",
       "      <td>7</td>\n",
       "      <td>72</td>\n",
       "      <td>55</td>\n",
       "      <td>13</td>\n",
       "      <td>168</td>\n",
       "    </tr>\n",
       "    <tr>\n",
       "      <th>Large</th>\n",
       "      <td>7</td>\n",
       "      <td>11</td>\n",
       "      <td>8</td>\n",
       "      <td>38</td>\n",
       "      <td>43</td>\n",
       "      <td>6</td>\n",
       "      <td>113</td>\n",
       "    </tr>\n",
       "    <tr>\n",
       "      <th>Total</th>\n",
       "      <td>77</td>\n",
       "      <td>81</td>\n",
       "      <td>32</td>\n",
       "      <td>149</td>\n",
       "      <td>98</td>\n",
       "      <td>19</td>\n",
       "      <td>456</td>\n",
       "    </tr>\n",
       "  </tbody>\n",
       "</table>\n",
       "</div>"
      ],
      "text/plain": [
       "        Dimension  Shape  Distribution  Intensity  Connectivity  Diversity  \\\n",
       "Small          56     63            17         39             0          0   \n",
       "Medium         14      7             7         72            55         13   \n",
       "Large           7     11             8         38            43          6   \n",
       "Total          77     81            32        149            98         19   \n",
       "\n",
       "        Total  \n",
       "Small     175  \n",
       "Medium    168  \n",
       "Large     113  \n",
       "Total     456  "
      ]
     },
     "execution_count": 47,
     "metadata": {},
     "output_type": "execute_result"
    }
   ],
   "source": [
    "statistics_extent"
   ]
  },
  {
   "cell_type": "code",
   "execution_count": 48,
   "metadata": {},
   "outputs": [
    {
     "data": {
      "text/html": [
       "<div>\n",
       "<style scoped>\n",
       "    .dataframe tbody tr th:only-of-type {\n",
       "        vertical-align: middle;\n",
       "    }\n",
       "\n",
       "    .dataframe tbody tr th {\n",
       "        vertical-align: top;\n",
       "    }\n",
       "\n",
       "    .dataframe thead th {\n",
       "        text-align: right;\n",
       "    }\n",
       "</style>\n",
       "<table border=\"1\" class=\"dataframe\">\n",
       "  <thead>\n",
       "    <tr style=\"text-align: right;\">\n",
       "      <th></th>\n",
       "      <th>Dimension</th>\n",
       "      <th>Shape</th>\n",
       "      <th>Distribution</th>\n",
       "      <th>Intensity</th>\n",
       "      <th>Connectivity</th>\n",
       "      <th>Diversity</th>\n",
       "      <th>Total</th>\n",
       "    </tr>\n",
       "  </thead>\n",
       "  <tbody>\n",
       "    <tr>\n",
       "      <th>Small</th>\n",
       "      <td>56</td>\n",
       "      <td>63</td>\n",
       "      <td>17</td>\n",
       "      <td>63</td>\n",
       "      <td>33</td>\n",
       "      <td>2</td>\n",
       "      <td>234</td>\n",
       "    </tr>\n",
       "    <tr>\n",
       "      <th>Medium</th>\n",
       "      <td>14</td>\n",
       "      <td>7</td>\n",
       "      <td>7</td>\n",
       "      <td>47</td>\n",
       "      <td>22</td>\n",
       "      <td>11</td>\n",
       "      <td>108</td>\n",
       "    </tr>\n",
       "    <tr>\n",
       "      <th>Large</th>\n",
       "      <td>7</td>\n",
       "      <td>11</td>\n",
       "      <td>8</td>\n",
       "      <td>36</td>\n",
       "      <td>17</td>\n",
       "      <td>5</td>\n",
       "      <td>84</td>\n",
       "    </tr>\n",
       "    <tr>\n",
       "      <th>Total</th>\n",
       "      <td>77</td>\n",
       "      <td>81</td>\n",
       "      <td>32</td>\n",
       "      <td>146</td>\n",
       "      <td>72</td>\n",
       "      <td>18</td>\n",
       "      <td>426</td>\n",
       "    </tr>\n",
       "  </tbody>\n",
       "</table>\n",
       "</div>"
      ],
      "text/plain": [
       "        Dimension  Shape  Distribution  Intensity  Connectivity  Diversity  \\\n",
       "Small          56     63            17         63            33          2   \n",
       "Medium         14      7             7         47            22         11   \n",
       "Large           7     11             8         36            17          5   \n",
       "Total          77     81            32        146            72         18   \n",
       "\n",
       "        Total  \n",
       "Small     234  \n",
       "Medium    108  \n",
       "Large      84  \n",
       "Total     426  "
      ]
     },
     "execution_count": 48,
     "metadata": {},
     "output_type": "execute_result"
    }
   ],
   "source": [
    "statistics_grain"
   ]
  },
  {
   "cell_type": "code",
   "execution_count": 24,
   "metadata": {},
   "outputs": [],
   "source": [
    "df = pd.DataFrame(data.index.value_counts(sort=False))\n",
    "\n",
    "df['index2'] = pd.Categorical(\n",
    "    df.index, \n",
    "    categories=['Dimension','Shape','Distribution','Intensity','Connectivity','Diversity'], \n",
    "    ordered=True)"
   ]
  },
  {
   "cell_type": "code",
   "execution_count": 78,
   "metadata": {},
   "outputs": [
    {
     "data": {
      "text/html": [
       "<div>\n",
       "<style scoped>\n",
       "    .dataframe tbody tr th:only-of-type {\n",
       "        vertical-align: middle;\n",
       "    }\n",
       "\n",
       "    .dataframe tbody tr th {\n",
       "        vertical-align: top;\n",
       "    }\n",
       "\n",
       "    .dataframe thead th {\n",
       "        text-align: right;\n",
       "    }\n",
       "</style>\n",
       "<table border=\"1\" class=\"dataframe\">\n",
       "  <thead>\n",
       "    <tr style=\"text-align: right;\">\n",
       "      <th></th>\n",
       "      <th>Category</th>\n",
       "      <th>index2</th>\n",
       "    </tr>\n",
       "  </thead>\n",
       "  <tbody>\n",
       "    <tr>\n",
       "      <th>Distribution</th>\n",
       "      <td>27</td>\n",
       "      <td>Distribution</td>\n",
       "    </tr>\n",
       "    <tr>\n",
       "      <th>Connectivity</th>\n",
       "      <td>55</td>\n",
       "      <td>Connectivity</td>\n",
       "    </tr>\n",
       "    <tr>\n",
       "      <th>Dimension</th>\n",
       "      <td>73</td>\n",
       "      <td>Dimension</td>\n",
       "    </tr>\n",
       "    <tr>\n",
       "      <th>Diversity</th>\n",
       "      <td>13</td>\n",
       "      <td>Diversity</td>\n",
       "    </tr>\n",
       "    <tr>\n",
       "      <th>Shape</th>\n",
       "      <td>78</td>\n",
       "      <td>Shape</td>\n",
       "    </tr>\n",
       "    <tr>\n",
       "      <th>Intensity</th>\n",
       "      <td>115</td>\n",
       "      <td>Intensity</td>\n",
       "    </tr>\n",
       "  </tbody>\n",
       "</table>\n",
       "</div>"
      ],
      "text/plain": [
       "              Category        index2\n",
       "Distribution        27  Distribution\n",
       "Connectivity        55  Connectivity\n",
       "Dimension           73     Dimension\n",
       "Diversity           13     Diversity\n",
       "Shape               78         Shape\n",
       "Intensity          115     Intensity"
      ]
     },
     "execution_count": 78,
     "metadata": {},
     "output_type": "execute_result"
    }
   ],
   "source": [
    "df"
   ]
  },
  {
   "cell_type": "code",
   "execution_count": 26,
   "metadata": {},
   "outputs": [
    {
     "data": {
      "image/png": "[encoded data removed]",
      "text/plain": [
       "<Figure size 864x576 with 1 Axes>"
      ]
     },
     "metadata": {},
     "output_type": "display_data"
    }
   ],
   "source": [
    "ax = df.sort_values('index2').plot(kind='bar', figsize=(12, 8), cmap='Set2')\n",
    "sns.despine(offset=5)\n",
    "ax.xaxis.grid(False)\n",
    "ax.yaxis.grid(False)\n",
    "plt.savefig('cats.svg')"
   ]
  },
  {
   "cell_type": "code",
   "execution_count": 73,
   "metadata": {},
   "outputs": [
    {
     "data": {
      "text/html": [
       "<div>\n",
       "<style scoped>\n",
       "    .dataframe tbody tr th:only-of-type {\n",
       "        vertical-align: middle;\n",
       "    }\n",
       "\n",
       "    .dataframe tbody tr th {\n",
       "        vertical-align: top;\n",
       "    }\n",
       "\n",
       "    .dataframe thead th {\n",
       "        text-align: right;\n",
       "    }\n",
       "</style>\n",
       "<table border=\"1\" class=\"dataframe\">\n",
       "  <thead>\n",
       "    <tr style=\"text-align: right;\">\n",
       "      <th></th>\n",
       "      <th>index</th>\n",
       "      <th>Category</th>\n",
       "    </tr>\n",
       "  </thead>\n",
       "  <tbody>\n",
       "    <tr>\n",
       "      <th>0</th>\n",
       "      <td>Distribution</td>\n",
       "      <td>27</td>\n",
       "    </tr>\n",
       "    <tr>\n",
       "      <th>1</th>\n",
       "      <td>Connectivity</td>\n",
       "      <td>55</td>\n",
       "    </tr>\n",
       "    <tr>\n",
       "      <th>2</th>\n",
       "      <td>Dimension</td>\n",
       "      <td>73</td>\n",
       "    </tr>\n",
       "    <tr>\n",
       "      <th>3</th>\n",
       "      <td>Diversity</td>\n",
       "      <td>13</td>\n",
       "    </tr>\n",
       "    <tr>\n",
       "      <th>4</th>\n",
       "      <td>Shape</td>\n",
       "      <td>78</td>\n",
       "    </tr>\n",
       "    <tr>\n",
       "      <th>5</th>\n",
       "      <td>Intensity</td>\n",
       "      <td>115</td>\n",
       "    </tr>\n",
       "  </tbody>\n",
       "</table>\n",
       "</div>"
      ],
      "text/plain": [
       "          index  Category\n",
       "0  Distribution        27\n",
       "1  Connectivity        55\n",
       "2     Dimension        73\n",
       "3     Diversity        13\n",
       "4         Shape        78\n",
       "5     Intensity       115"
      ]
     },
     "execution_count": 73,
     "metadata": {},
     "output_type": "execute_result"
    }
   ],
   "source": [
    "pd.DataFrame(data.index.value_counts(sort=False)).reset_index()"
   ]
  },
  {
   "cell_type": "code",
   "execution_count": null,
   "metadata": {},
   "outputs": [],
   "source": []
  }
 ],
 "metadata": {
  "kernelspec": {
   "display_name": "geo_dev",
   "language": "python",
   "name": "geo_dev"
  },
  "language_info": {
   "codemirror_mode": {
    "name": "ipython",
    "version": 3
   },
   "file_extension": ".py",
   "mimetype": "text/x-python",
   "name": "python",
   "nbconvert_exporter": "python",
   "pygments_lexer": "ipython3",
   "version": "3.8.0"
  }
 },
 "nbformat": 4,
 "nbformat_minor": 4
}
